{
  "nbformat": 4,
  "nbformat_minor": 0,
  "metadata": {
    "colab": {
      "provenance": [],
      "authorship_tag": "ABX9TyMa4UdYIAf8fhsW7qjti84r",
      "include_colab_link": true
    },
    "kernelspec": {
      "name": "python3",
      "display_name": "Python 3"
    },
    "language_info": {
      "name": "python"
    }
  },
  "cells": [
    {
      "cell_type": "markdown",
      "metadata": {
        "id": "view-in-github",
        "colab_type": "text"
      },
      "source": [
        "<a href=\"https://colab.research.google.com/github/crcifuentesc/ejercicio-1-/blob/main/Untitled1.ipynb\" target=\"_parent\"><img src=\"https://colab.research.google.com/assets/colab-badge.svg\" alt=\"Open In Colab\"/></a>"
      ]
    },
    {
      "cell_type": "markdown",
      "source": [
        "LIBRO 1"
      ],
      "metadata": {
        "id": "BAZGZ1WhxHUL"
      }
    },
    {
      "cell_type": "code",
      "execution_count": 1,
      "metadata": {
        "colab": {
          "base_uri": "https://localhost:8080/"
        },
        "id": "nourhVnUt_IQ",
        "outputId": "24a36f0b-9207-4cf0-ed04-363ce09c3325"
      },
      "outputs": [
        {
          "output_type": "stream",
          "name": "stdout",
          "text": [
            "Ingrese el número de horas trabajadas: 8\n",
            "Ingrese la tarifa por hora: 20000\n",
            "El pago correspondiente es: 160000.0\n"
          ]
        }
      ],
      "source": [
        "# Solicitar al usuario el número de horas trabajadas y la tarifa por hora\n",
        "horas_trabajadas = float(input(\"Ingrese el número de horas trabajadas: \"))\n",
        "tarifa_por_hora = float(input(\"Ingrese la tarifa por hora: \"))\n",
        "\n",
        "# Calcular el pago correspondiente\n",
        "pago = horas_trabajadas * tarifa_por_hora\n",
        "\n",
        "# Mostrar el pago en pantalla\n",
        "print(\"El pago correspondiente es:\", pago)"
      ]
    },
    {
      "cell_type": "code",
      "source": [
        "# Solicitar al usuario su peso (en kg) y altura (en metros)\n",
        "peso = float(input(\"Ingrese su peso en kg: \"))\n",
        "altura = float(input(\"Ingrese su altura en metros: \"))\n",
        "\n",
        "# Calcular el índice de masa corporal (BMI)\n",
        "bmi = peso / (altura ** 2)\n",
        "\n",
        "# Redondear el BMI a dos decimales\n",
        "bmi = round(bmi, 2)\n",
        "\n",
        "# Mostrar el BMI en pantalla\n",
        "print(\"Su índice de masa corporal es\", bmi)\n"
      ],
      "metadata": {
        "colab": {
          "base_uri": "https://localhost:8080/"
        },
        "id": "RT7-ZWWAvYkG",
        "outputId": "12402016-d31b-4dbe-e48e-e48319f90285"
      },
      "execution_count": 2,
      "outputs": [
        {
          "output_type": "stream",
          "name": "stdout",
          "text": [
            "Ingrese su peso en kg: 58\n",
            "Ingrese su altura en metros: 1.75\n",
            "Su índice de masa corporal es 18.94\n"
          ]
        }
      ]
    },
    {
      "cell_type": "code",
      "source": [
        "# Calcular el resultado de la operación aritmética y elevarlo al cuadrado\n",
        "resultado = ((3 + 2 / 2.5) / 2) ** 2\n",
        "\n",
        "# Mostrar el resultado en pantalla\n",
        "print(\"El resultado  es:\", resultado)"
      ],
      "metadata": {
        "colab": {
          "base_uri": "https://localhost:8080/"
        },
        "id": "ecGISjVDvcYG",
        "outputId": "ff164380-0659-4742-8153-0505727274ab"
      },
      "execution_count": 4,
      "outputs": [
        {
          "output_type": "stream",
          "name": "stdout",
          "text": [
            "El resultado  es: 3.61\n"
          ]
        }
      ]
    },
    {
      "cell_type": "markdown",
      "source": [
        "LIBRO 2"
      ],
      "metadata": {
        "id": "E8lX8Jy3yfV_"
      }
    },
    {
      "cell_type": "code",
      "source": [
        "# Pedir al usuario su edad y su ingreso mensual\n",
        "print(\"Vamos a averiguar si necesitas pagar impuestos.\")\n",
        "edad = int(input(\"¿Cuántos años tienes?: \"))\n",
        "ingreso_mensual = float(input(\"¿Cuánto ganas al mes en euros?: \"))\n",
        "\n",
        "# Verificar si el usuario debe pagar impuestos\n",
        "if edad > 16 and ingreso_mensual >= 1000:\n",
        "    print(\"¡Uy! Parece que necesitas pagar impuestos. ¡No olvides hacerlo!\")\n",
        "else:\n",
        "    print(\"¡Bien! no pagas los impuestos por ahora.\")"
      ],
      "metadata": {
        "colab": {
          "base_uri": "https://localhost:8080/"
        },
        "id": "r9K3R0Urygz3",
        "outputId": "feb55784-3829-466c-98c6-6f66003572b3"
      },
      "execution_count": 7,
      "outputs": [
        {
          "output_type": "stream",
          "name": "stdout",
          "text": [
            "Vamos a averiguar si necesitas pagar impuestos.\n",
            "¿Cuántos años tienes?: 16\n",
            "¿Cuánto ganas al mes en euros?: 990\n",
            "¡Bien! no pagas los impuestos por ahora.\n"
          ]
        }
      ]
    },
    {
      "cell_type": "code",
      "source": [
        "# Saludo al usuario y le pregunto qué tipo de pizza prefiere\n",
        "print(\" Bienvenido a Bella Napoli,.\")\n",
        "\n",
        "\n",
        "# Preguntar al usuario si quiere una pizza vegetariana\n",
        "preferencia = input(\"¿Prefieres una pizza vegetariana?: \")\n",
        "\n",
        "# Verificar la preferencia del usuario y mostrar el menú correspondiente\n",
        "if preferencia.lower() == \"sí\":\n",
        "    print(\"¡Genial! Aquí tienes las opciones vegetarianas:\")\n",
        "    print(\"- Mozzarella\")\n",
        "    print(\"- Tomate\")\n",
        "    print(\"- Pimientos\")\n",
        "    print(\"- Tofu\")\n",
        "else:\n",
        "    print(\"¡Entendido! Aquí están las opciones no vegetarianas:\")\n",
        "    print(\"- Mozzarella\")\n",
        "    print(\"- Tomate\")\n",
        "    print(\"- Pepperoni\")\n",
        "    print(\"- Jamón\")\n",
        "    print(\"- Salmón\")\n",
        "\n",
        "# Preguntar al usuario por un ingrediente adicional\n",
        "ingrediente_adicional = input(\"Por favor, elige un ingrediente adicional: \")\n",
        "\n",
        "# Determinar si la pizza es vegetariana o no y mostrar los ingredientes\n",
        "if preferencia.lower() == \"sí\":\n",
        "    print(\"¡Excelente elección! Tu pizza es vegetariana.\")\n",
        "    print(\"Los ingredientes son: Mozzarella, Tomate, Pimientos y\", ingrediente_adicional)\n",
        "else:\n",
        "    print(\"¡Buena elección! Tu pizza no es vegetariana.\")\n",
        "    print(\"Los ingredientes son: Mozzarella, Tomate, Pepperoni, Jamón, Salmón y\", ingrediente_adicional)"
      ],
      "metadata": {
        "colab": {
          "base_uri": "https://localhost:8080/"
        },
        "id": "os1fHkfl1NC0",
        "outputId": "3848c31f-d85b-472a-b7ef-c609cd36705f"
      },
      "execution_count": 10,
      "outputs": [
        {
          "output_type": "stream",
          "name": "stdout",
          "text": [
            " Bienvenido a Bella Napoli,.\n",
            "¿Prefieres una pizza vegetariana?: si\n",
            "¡Entendido! Aquí están las opciones no vegetarianas:\n",
            "- Mozzarella\n",
            "- Tomate\n",
            "- Pepperoni\n",
            "- Jamón\n",
            "- Salmón\n",
            "Por favor, elige un ingrediente adicional: mozzarella\n",
            "¡Buena elección! Tu pizza no es vegetariana.\n",
            "Los ingredientes son: Mozzarella, Tomate, Pepperoni, Jamón, Salmón y mozzarella\n"
          ]
        }
      ]
    },
    {
      "cell_type": "code",
      "source": [],
      "metadata": {
        "id": "_bJEvO6L2PCU"
      },
      "execution_count": null,
      "outputs": []
    },
    {
      "cell_type": "markdown",
      "source": [
        "LIBRO 3\n"
      ],
      "metadata": {
        "id": "fJHJUDjc4VAh"
      }
    },
    {
      "cell_type": "code",
      "source": [
        "# Inicializar un contador para la cantidad de números ingresados\n",
        "cantidad_numeros = 0\n",
        "\n",
        "# Solicitar al usuario que ingrese un número\n",
        "# El bucle continuará hasta que se ingrese un cero\n",
        "while True:\n",
        "    numero = int(input(\"Ingrese un número entero (ingrese 0 para terminar): \"))\n",
        "\n",
        "    # Verificar si se ha ingresado un cero\n",
        "    if numero == 0:\n",
        "        break\n",
        "\n",
        "    # Incrementar el contador de números\n",
        "    cantidad_numeros += 1\n",
        "\n",
        "# Mostrar la cantidad total de números ingresados\n",
        "print(\"La cantidad total de números ingresados es:\", cantidad_numeros)"
      ],
      "metadata": {
        "colab": {
          "base_uri": "https://localhost:8080/"
        },
        "id": "xTViWdSS4XlS",
        "outputId": "ba8e65ca-0505-4634-9851-c0f9c1d63ba3"
      },
      "execution_count": 11,
      "outputs": [
        {
          "output_type": "stream",
          "name": "stdout",
          "text": [
            "Ingrese un número entero (ingrese 0 para terminar): 1\n",
            "Ingrese un número entero (ingrese 0 para terminar): 2\n",
            "Ingrese un número entero (ingrese 0 para terminar): 5\n",
            "Ingrese un número entero (ingrese 0 para terminar): 6\n",
            "Ingrese un número entero (ingrese 0 para terminar): 7\n",
            "Ingrese un número entero (ingrese 0 para terminar): 0\n",
            "La cantidad total de números ingresados es: 5\n"
          ]
        }
      ]
    },
    {
      "cell_type": "code",
      "source": [
        "# Inicializar la variable para almacenar la suma de números pares\n",
        "suma_numeros_pares = 0\n",
        "\n",
        "# Inicializar la variable para contar la cantidad de números ingresados\n",
        "cantidad_numeros = 0\n",
        "\n",
        "# Bucle para pedir al usuario que ingrese un número entero\n",
        "while cantidad_numeros < 10 and suma_numeros_pares <= 50:\n",
        "    numero = int(input(\"Ingrese un número entero: \"))\n",
        "\n",
        "    # Verificar si el número ingresado es par\n",
        "    if numero % 2 == 0:\n",
        "        # Acumular el número solo si es par\n",
        "        suma_numeros_pares += numero\n",
        "\n",
        "    # Incrementar el contador de números ingresados\n",
        "    cantidad_numeros += 1\n",
        "\n",
        "# Mostrar la suma de los números pares\n",
        "print(\"La suma de los números pares es:\", suma_numeros_pares)\n"
      ],
      "metadata": {
        "colab": {
          "base_uri": "https://localhost:8080/"
        },
        "id": "k8pQC7t85KyR",
        "outputId": "551e8a9a-ced1-490f-bccf-f36ea0bf185d"
      },
      "execution_count": 16,
      "outputs": [
        {
          "output_type": "stream",
          "name": "stdout",
          "text": [
            "Ingrese un número entero: 8\n",
            "Ingrese un número entero: 8\n",
            "Ingrese un número entero: 8\n",
            "Ingrese un número entero: 8\n",
            "Ingrese un número entero: 8\n",
            "Ingrese un número entero: 8\n",
            "Ingrese un número entero: 8\n",
            "La suma de los números pares es: 56\n"
          ]
        }
      ]
    }
  ]
}